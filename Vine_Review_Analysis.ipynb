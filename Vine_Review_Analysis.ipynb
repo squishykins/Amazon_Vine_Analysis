{
  "cells": [
    {
      "cell_type": "code",
      "execution_count": 1,
      "metadata": {
        "colab": {
          "base_uri": "https://localhost:8080/"
        },
        "id": "x0QyV0Db-Ow1",
        "outputId": "2e6d7dae-41e2-4d6f-d5b8-7d8f0495888b"
      },
      "outputs": [
        {
          "name": "stdout",
          "output_type": "stream",
          "text": [
            "\r0% [Working]\r            \rGet:1 https://cloud.r-project.org/bin/linux/ubuntu bionic-cran40/ InRelease [3,626 B]\n",
            "Get:2 https://developer.download.nvidia.com/compute/cuda/repos/ubuntu1804/x86_64  InRelease [1,581 B]\n",
            "Ign:3 https://developer.download.nvidia.com/compute/machine-learning/repos/ubuntu1804/x86_64  InRelease\n",
            "Hit:4 https://developer.download.nvidia.com/compute/machine-learning/repos/ubuntu1804/x86_64  Release\n",
            "Get:5 https://cloud.r-project.org/bin/linux/ubuntu bionic-cran40/ Packages [85.6 kB]\n",
            "Get:6 http://security.ubuntu.com/ubuntu bionic-security InRelease [88.7 kB]\n",
            "Hit:7 http://archive.ubuntu.com/ubuntu bionic InRelease\n",
            "Get:8 http://ppa.launchpad.net/c2d4u.team/c2d4u4.0+/ubuntu bionic InRelease [15.9 kB]\n",
            "Get:9 https://developer.download.nvidia.com/compute/cuda/repos/ubuntu1804/x86_64  Packages [824 kB]\n",
            "Get:10 http://archive.ubuntu.com/ubuntu bionic-updates InRelease [88.7 kB]\n",
            "Hit:12 http://ppa.launchpad.net/cran/libgit2/ubuntu bionic InRelease\n",
            "Get:13 http://archive.ubuntu.com/ubuntu bionic-backports InRelease [74.6 kB]\n",
            "Get:14 http://ppa.launchpad.net/deadsnakes/ppa/ubuntu bionic InRelease [15.9 kB]\n",
            "Get:15 http://security.ubuntu.com/ubuntu bionic-security/main amd64 Packages [2,905 kB]\n",
            "Hit:16 http://ppa.launchpad.net/graphics-drivers/ppa/ubuntu bionic InRelease\n",
            "Get:17 http://archive.ubuntu.com/ubuntu bionic-updates/restricted amd64 Packages [1,107 kB]\n",
            "Get:18 http://ppa.launchpad.net/c2d4u.team/c2d4u4.0+/ubuntu bionic/main Sources [2,075 kB]\n",
            "Get:19 http://ppa.launchpad.net/c2d4u.team/c2d4u4.0+/ubuntu bionic/main amd64 Packages [1,063 kB]\n",
            "Get:20 http://archive.ubuntu.com/ubuntu bionic-updates/main amd64 Packages [3,336 kB]\n",
            "Get:21 http://ppa.launchpad.net/deadsnakes/ppa/ubuntu bionic/main amd64 Packages [45.3 kB]\n",
            "Get:22 http://security.ubuntu.com/ubuntu bionic-security/restricted amd64 Packages [1,065 kB]\n",
            "Get:23 http://security.ubuntu.com/ubuntu bionic-security/universe amd64 Packages [1,527 kB]\n",
            "Get:24 http://archive.ubuntu.com/ubuntu bionic-updates/universe amd64 Packages [2,306 kB]\n",
            "Fetched 16.6 MB in 19s (858 kB/s)\n",
            "Reading package lists... Done\n"
          ]
        }
      ],
      "source": [
        "import os\n",
        "# Find the latest version of spark 3.0 from http://www.apache.org/dist/spark/ and enter as the spark version\n",
        "# For example:\n",
        "# spark_version = 'spark-3.0.3'\n",
        "spark_version = 'spark-3.0.3'\n",
        "os.environ['SPARK_VERSION']=spark_version\n",
        "\n",
        "# Install Spark and Java\n",
        "!apt-get update\n",
        "!apt-get install openjdk-11-jdk-headless -qq > /dev/null\n",
        "!wget -q http://www.apache.org/dist/spark/$SPARK_VERSION/$SPARK_VERSION-bin-hadoop2.7.tgz\n",
        "!tar xf $SPARK_VERSION-bin-hadoop2.7.tgz\n",
        "!pip install -q findspark\n",
        "\n",
        "# Set Environment Variables\n",
        "import os\n",
        "os.environ[\"JAVA_HOME\"] = \"/usr/lib/jvm/java-11-openjdk-amd64\"\n",
        "os.environ[\"SPARK_HOME\"] = f\"/content/{spark_version}-bin-hadoop2.7\"\n",
        "\n",
        "# Start a SparkSession\n",
        "import findspark\n",
        "findspark.init()"
      ]
    },
    {
      "cell_type": "code",
      "execution_count": 2,
      "metadata": {
        "id": "GrR-SLqn-vwZ"
      },
      "outputs": [],
      "source": [
        "from pyspark.sql import SparkSession\n",
        "spark = SparkSession.builder.appName(\"M16-Amazon-Challenge\").config(\"spark.driver.extraClassPath\",\"/content/postgresql-42.2.16.jar\").getOrCreate()"
      ]
    },
    {
      "cell_type": "code",
      "execution_count": 3,
      "metadata": {
        "colab": {
          "base_uri": "https://localhost:8080/"
        },
        "id": "cZ51Ep1Y-2MZ",
        "outputId": "7327cf43-d238-43e5-82bf-a757bc87d2e6"
      },
      "outputs": [
        {
          "name": "stdout",
          "output_type": "stream",
          "text": [
            "+-----------+-----------+--------------+----------+--------------+--------------------+----------------+-----------+-------------+-----------+----+-----------------+--------------------+--------------------+-----------+\n",
            "|marketplace|customer_id|     review_id|product_id|product_parent|       product_title|product_category|star_rating|helpful_votes|total_votes|vine|verified_purchase|     review_headline|         review_body|review_date|\n",
            "+-----------+-----------+--------------+----------+--------------+--------------------+----------------+-----------+-------------+-----------+----+-----------------+--------------------+--------------------+-----------+\n",
            "|         US|    1774101|R3PMQXEVYR4ZT1|B00DVKOYBM|     263046246|         8 Ball Pool|     Mobile_Apps|          3|            0|          0|   N|                Y|                 Fun|It is a fun game ...| 2015-08-31|\n",
            "|         US|   13679234|R1I1K3EO98EMUV|B00R1IA4RS|     128868854|Christmas Cookie ...|     Mobile_Apps|          5|            0|          0|   N|                Y|          Five Stars|Fun cute game.  S...| 2015-08-31|\n",
            "|         US|   15056632|R3K23URSI2MY42|B01069LGHK|     955481764|Relax Melodies Pr...|     Mobile_Apps|          5|            4|          4|   N|                Y|         Great app !|It's a very nice ...| 2015-08-31|\n",
            "|         US|   52477711| RH2P770T10X38|B00X64ZKM0|     455029830|  Star Trek™ Trexels|     Mobile_Apps|          5|            0|          0|   N|                Y|             awesome|I am a huge star ...| 2015-08-31|\n",
            "|         US|   15021042| RV9YBAW8CWFYN|B00KIZO238|     685358159|      Weather Friend|     Mobile_Apps|          1|            0|          0|   N|                Y|      Don't like it.|I get better info...| 2015-08-31|\n",
            "|         US|    5181462| R19627K7G1G6X|B00H9FE0FU|     158085302|         Avakin Life|     Mobile_Apps|          5|            0|          0|   N|                Y|             love it|  This is a fun game| 2015-08-31|\n",
            "|         US|   19360265|R22858XECEF7YQ|B0064X7FVE|     140639925|The Weather Chann...|     Mobile_Apps|          3|            0|          0|   N|                N|         weather app|It's ok ... I gue...| 2015-08-31|\n",
            "|         US|   28928572|R3KQOY7MDZOK0U|B00N28818A|     838378762|  Amazon Prime Video|     Mobile_Apps|          1|            0|          0|   N|                Y|            One Star|Spent 30 minutes,...| 2015-08-31|\n",
            "|         US|   26842555|R31BKIN02QFDHS|B00HGMXSGI|     141073643|F1 Car Racing 3D ...|     Mobile_Apps|          4|            0|          0|   N|                Y|          Four Stars|                okay| 2015-08-31|\n",
            "|         US|   25535583|R3FW62P5EUDUUV|B0119R2DB6|     498391460|           WordBrain|     Mobile_Apps|          5|            0|          0|   N|                Y|        Challenging!|Definitely one of...| 2015-08-31|\n",
            "|         US|    3343825| RBD8ROQJQO68E|B00O0OR65E|     156086007|           Yes Chef!|     Mobile_Apps|          5|            0|          0|   N|                Y|            Awesome!|Very cool game. W...| 2015-08-31|\n",
            "|         US|   49181739|R1S04R7IT12FKH|B00YCL9R0W|     629058532|Weather Live - De...|     Mobile_Apps|          4|            0|          0|   N|                Y|       Works great!!|Works great, all ...| 2015-08-31|\n",
            "|         US|   13270659|R194G91R3ZLBF2|B00CO6TOZA|     829161463|The Sandbox - Pix...|     Mobile_Apps|          1|            0|          0|   N|                Y|       Can't open it|It was fun until ...| 2015-08-31|\n",
            "|         US|    2463531|R3HL9X6I540JIU|B0143IEV2C|     700349630|Free Fur All – We...|     Mobile_Apps|          4|            3|          3|   N|                Y|           it's fun.|My daughter watch...| 2015-08-31|\n",
            "|         US|   22004512|R2EY7KOBYDYXXA|B013Z61TSW|     597449900| DraftCaddy FFL 2015|     Mobile_Apps|          5|            0|          0|   N|                Y|          Five Stars|Great and super e...| 2015-08-31|\n",
            "|         US|   22117302|R25RWPOJZ107LS|B00VTVJYTC|     280276697|    Balloon Paradise|     Mobile_Apps|          5|            0|          0|   N|                Y|                 fun|This is fun too play| 2015-08-31|\n",
            "|         US|   15335275|R3CXLGDEO7QPGY|B00W3V83QW|     644120444| Bubble Witch 2 Saga|     Mobile_Apps|          1|            0|          0|   N|                Y|Cannot download e...|Cannot download  ...| 2015-08-31|\n",
            "|         US|    8713121|R3AEWJ6OQZI2DV|B011WDWQ6O|     228013366|Viva Vegas Slots ...|     Mobile_Apps|          3|            0|          0|   N|                Y|               agree|The game sucks yo...| 2015-08-31|\n",
            "|         US|   25989961|R3QD4EAHDX3JVP|B00F9G2UQW|     523400408|Android Universal...|     Mobile_Apps|          3|            0|          0|   N|                Y|            Horrible|It's so annoying ...| 2015-08-31|\n",
            "|         US|    3729602| R14F4B4CZ4RIJ|B00Y3ZWEL6|     860150135|Castle of Illusio...|     Mobile_Apps|          1|            0|          2|   N|                Y|               Why?!|I have been tryin...| 2015-08-31|\n",
            "+-----------+-----------+--------------+----------+--------------+--------------------+----------------+-----------+-------------+-----------+----+-----------------+--------------------+--------------------+-----------+\n",
            "only showing top 20 rows\n",
            "\n"
          ]
        }
      ],
      "source": [
        "from pyspark import SparkFiles\n",
        "url = \"https://s3.amazonaws.com/amazon-reviews-pds/tsv/amazon_reviews_us_Mobile_Apps_v1_00.tsv.gz\"\n",
        "spark.sparkContext.addFile(url)\n",
        "df = spark.read.option(\"encoding\", \"UTF-8\").csv(SparkFiles.get(\"\"), sep=\"\\t\", header=True, inferSchema=True)\n",
        "df.show()"
      ]
    },
    {
      "cell_type": "code",
      "execution_count": 4,
      "metadata": {
        "colab": {
          "base_uri": "https://localhost:8080/"
        },
        "id": "V4AYHwxK_SZT",
        "outputId": "9e175ad6-4413-4fb8-92ca-07f39401ff6b"
      },
      "outputs": [
        {
          "name": "stdout",
          "output_type": "stream",
          "text": [
            "+--------------+-----------+-------------+-----------+----+-----------------+\n",
            "|     review_id|star_rating|helpful_votes|total_votes|vine|verified_purchase|\n",
            "+--------------+-----------+-------------+-----------+----+-----------------+\n",
            "|R3PMQXEVYR4ZT1|          3|            0|          0|   N|                Y|\n",
            "|R1I1K3EO98EMUV|          5|            0|          0|   N|                Y|\n",
            "|R3K23URSI2MY42|          5|            4|          4|   N|                Y|\n",
            "| RH2P770T10X38|          5|            0|          0|   N|                Y|\n",
            "| RV9YBAW8CWFYN|          1|            0|          0|   N|                Y|\n",
            "+--------------+-----------+-------------+-----------+----+-----------------+\n",
            "only showing top 5 rows\n",
            "\n"
          ]
        }
      ],
      "source": [
        "# Create the vine_table DataFrame\n",
        "vine_df = df.select([\"review_id\", \"star_rating\", \"helpful_votes\", \"total_votes\", \"vine\", \"verified_purchase\"])\n",
        "vine_df.show(5)"
      ]
    },
    {
      "cell_type": "code",
      "execution_count": 5,
      "metadata": {
        "colab": {
          "base_uri": "https://localhost:8080/"
        },
        "id": "7c77gyW6_bIT",
        "outputId": "7d327e20-9e79-4a89-bed0-13f71275ab98"
      },
      "outputs": [
        {
          "name": "stdout",
          "output_type": "stream",
          "text": [
            "+--------------+-----------+-------------+-----------+----+-----------------+\n",
            "|     review_id|star_rating|helpful_votes|total_votes|vine|verified_purchase|\n",
            "+--------------+-----------+-------------+-----------+----+-----------------+\n",
            "|R1Z9QZRQJ1F8JX|          1|           17|         22|   N|                Y|\n",
            "|R31PAYBVBP8W62|          1|           54|         81|   N|                Y|\n",
            "|R33GCMAT1K5DX8|          2|          141|        190|   N|                Y|\n",
            "|R3MIL83RY4SMS4|          1|           27|         38|   N|                Y|\n",
            "|R37T9FXGG07XOM|          1|           24|         28|   N|                Y|\n",
            "+--------------+-----------+-------------+-----------+----+-----------------+\n",
            "only showing top 5 rows\n",
            "\n"
          ]
        }
      ],
      "source": [
        "# Filter dataframe to total_votes >= 20\n",
        "vote_df = vine_df.filter(\"total_votes>=20\")\n",
        "vote_df.show(5)"
      ]
    },
    {
      "cell_type": "code",
      "execution_count": 6,
      "metadata": {
        "colab": {
          "base_uri": "https://localhost:8080/"
        },
        "id": "3BE1qhoR_e5N",
        "outputId": "8e71cb4a-a20a-4fd8-df5a-bc5ef4b840cf"
      },
      "outputs": [
        {
          "name": "stdout",
          "output_type": "stream",
          "text": [
            "+--------------+-----------+-------------+-----------+----+-----------------+\n",
            "|     review_id|star_rating|helpful_votes|total_votes|vine|verified_purchase|\n",
            "+--------------+-----------+-------------+-----------+----+-----------------+\n",
            "|R1Z9QZRQJ1F8JX|          1|           17|         22|   N|                Y|\n",
            "|R31PAYBVBP8W62|          1|           54|         81|   N|                Y|\n",
            "|R33GCMAT1K5DX8|          2|          141|        190|   N|                Y|\n",
            "|R3MIL83RY4SMS4|          1|           27|         38|   N|                Y|\n",
            "|R37T9FXGG07XOM|          1|           24|         28|   N|                Y|\n",
            "+--------------+-----------+-------------+-----------+----+-----------------+\n",
            "only showing top 5 rows\n",
            "\n"
          ]
        }
      ],
      "source": [
        "# Filter dataframe to where helpful votes is greater than 50%\n",
        "helpful_votes_df = vote_df.filter((vote_df.helpful_votes / vote_df.total_votes) >= 0.5)\n",
        "helpful_votes_df.show(5)"
      ]
    },
    {
      "cell_type": "code",
      "execution_count": 7,
      "metadata": {
        "colab": {
          "base_uri": "https://localhost:8080/"
        },
        "id": "TVD9gMlc_iAW",
        "outputId": "9c386330-7ba6-4820-c650-a6f8ead22ac4"
      },
      "outputs": [
        {
          "name": "stdout",
          "output_type": "stream",
          "text": [
            "+---------+-----------+-------------+-----------+----+-----------------+\n",
            "|review_id|star_rating|helpful_votes|total_votes|vine|verified_purchase|\n",
            "+---------+-----------+-------------+-----------+----+-----------------+\n",
            "+---------+-----------+-------------+-----------+----+-----------------+\n",
            "\n"
          ]
        }
      ],
      "source": [
        "# Filter dataframe to Vine reviews\n",
        "vine_review_df = helpful_votes_df.filter((helpful_votes_df.vine) == \"Y\")\n",
        "vine_review_df.show(5)"
      ]
    },
    {
      "cell_type": "code",
      "execution_count": 8,
      "metadata": {
        "colab": {
          "base_uri": "https://localhost:8080/"
        },
        "id": "d07uCliB_z5S",
        "outputId": "aa39138f-821b-4f9b-8abd-96c0ace8d4a3"
      },
      "outputs": [
        {
          "name": "stdout",
          "output_type": "stream",
          "text": [
            "+--------------+-----------+-------------+-----------+----+-----------------+\n",
            "|     review_id|star_rating|helpful_votes|total_votes|vine|verified_purchase|\n",
            "+--------------+-----------+-------------+-----------+----+-----------------+\n",
            "|R1Z9QZRQJ1F8JX|          1|           17|         22|   N|                Y|\n",
            "|R31PAYBVBP8W62|          1|           54|         81|   N|                Y|\n",
            "|R33GCMAT1K5DX8|          2|          141|        190|   N|                Y|\n",
            "|R3MIL83RY4SMS4|          1|           27|         38|   N|                Y|\n",
            "|R37T9FXGG07XOM|          1|           24|         28|   N|                Y|\n",
            "+--------------+-----------+-------------+-----------+----+-----------------+\n",
            "only showing top 5 rows\n",
            "\n"
          ]
        }
      ],
      "source": [
        "# Filter dataframe to non-Vine reviews\n",
        "non_vine_review_df = helpful_votes_df.filter((helpful_votes_df.vine) == \"N\")\n",
        "non_vine_review_df.show(5)"
      ]
    },
    {
      "cell_type": "code",
      "execution_count": 9,
      "metadata": {
        "colab": {
          "base_uri": "https://localhost:8080/"
        },
        "id": "G8GRkdhGABSp",
        "outputId": "f169a970-4201-41ce-da11-f9617dc933b3"
      },
      "outputs": [
        {
          "data": {
            "text/plain": [
              "0"
            ]
          },
          "execution_count": 9,
          "metadata": {},
          "output_type": "execute_result"
        }
      ],
      "source": [
        "# Count total Vine Reviews\n",
        "total_vine = vine_review_df.count()\n",
        "total_vine"
      ]
    },
    {
      "cell_type": "code",
      "execution_count": 10,
      "metadata": {
        "colab": {
          "base_uri": "https://localhost:8080/"
        },
        "id": "P2RM39CsAIWY",
        "outputId": "77703116-a159-46f7-813e-8c906f8ae081"
      },
      "outputs": [
        {
          "data": {
            "text/plain": [
              "129516"
            ]
          },
          "execution_count": 10,
          "metadata": {},
          "output_type": "execute_result"
        }
      ],
      "source": [
        "# Count total Non-Vine Reviews\n",
        "total_non_vine = non_vine_review_df.count()\n",
        "total_non_vine"
      ]
    },
    {
      "cell_type": "code",
      "execution_count": 11,
      "metadata": {
        "colab": {
          "base_uri": "https://localhost:8080/"
        },
        "id": "0iDR8RTSAUsq",
        "outputId": "58328f42-c62e-49b4-8856-0bd3b9ef162c"
      },
      "outputs": [
        {
          "data": {
            "text/plain": [
              "0"
            ]
          },
          "execution_count": 11,
          "metadata": {},
          "output_type": "execute_result"
        }
      ],
      "source": [
        "# Count total 5-star vine reviews\n",
        "five_star_vine = vine_review_df.filter(\"star_rating==5\").count()\n",
        "five_star_vine"
      ]
    },
    {
      "cell_type": "code",
      "execution_count": 12,
      "metadata": {
        "colab": {
          "base_uri": "https://localhost:8080/"
        },
        "id": "3ONNWEI7ApnI",
        "outputId": "1c7ce25a-3804-4c4e-c4bf-1742b88e9016"
      },
      "outputs": [
        {
          "data": {
            "text/plain": [
              "59278"
            ]
          },
          "execution_count": 12,
          "metadata": {},
          "output_type": "execute_result"
        }
      ],
      "source": [
        "# Count total 5-star non-vine reviews\n",
        "five_star_non_vine = non_vine_review_df.filter(\"star_rating==5\").count()\n",
        "five_star_non_vine"
      ]
    },
    {
      "cell_type": "code",
      "execution_count": 19,
      "metadata": {
        "colab": {
          "base_uri": "https://localhost:8080/"
        },
        "id": "qNsEYlCBAyBs",
        "outputId": "d255cc92-3115-4269-b8bf-2996552f2dc4"
      },
      "outputs": [
        {
          "name": "stdout",
          "output_type": "stream",
          "text": [
            "The percentage of 5-star non-vine reviews is 45.77%.\n",
            "The percentage of 5-star vine reviews is 0%.\n"
          ]
        }
      ],
      "source": [
        "# Determine percentage of 5-star non-vine and vine reviews\n",
        "five_star_nonvine_pct = five_star_non_vine / total_non_vine\n",
        "print(f\"The percentage of 5-star non-vine reviews is {five_star_nonvine_pct:.2%}.\")\n",
        "print(f\"The percentage of 5-star vine reviews is 0%.\")"
      ]
    }
  ],
  "metadata": {
    "colab": {
      "name": "Vine_Review_Analysis.ipynb",
      "provenance": []
    },
    "kernelspec": {
      "display_name": "Python 3.10.4 64-bit",
      "language": "python",
      "name": "python3"
    },
    "language_info": {
      "name": "python",
      "version": "3.10.4"
    },
    "vscode": {
      "interpreter": {
        "hash": "f6de0d1e29124a3878598a1ed74481cb7c86b24cc585f14f2a85537e48bfe0af"
      }
    }
  },
  "nbformat": 4,
  "nbformat_minor": 0
}
